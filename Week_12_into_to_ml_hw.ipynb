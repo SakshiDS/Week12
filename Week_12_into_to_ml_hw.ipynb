{
 "cells": [
  {
   "cell_type": "code",
   "execution_count": 1,
   "metadata": {},
   "outputs": [],
   "source": [
    "# importing packages\n",
    "\n",
    "import pandas as pd\n",
    "import numpy as np\n",
    "import matplotlib.pyplot as plt\n",
    "import seaborn as sns\n",
    "import time"
   ]
  },
  {
   "cell_type": "markdown",
   "metadata": {},
   "source": [
    "#### 1.\tIn 250-500 words, write a thorough discussion of when to use ML and when not to. Do NOT go over the 500-word limit. It is essential to express this concisely. This should be informed by the Machine Learning for Business DataCamp course. "
   ]
  },
  {
   "cell_type": "markdown",
   "metadata": {},
   "source": [
    "    Machine Learning is a process where computer system is able to learn and adapt without explicit instructions. But for machine to do so the input data should have some recognizable patterns. Hence first and foremost the raw data set we collect should have features that can be processed to have discernable patterns for the machine to understand. \n",
    "    \n",
    "    Now assuming we do have such a data that we can process and is fit as input for ML, should we proceed with ML. Many data set would meet the above matter, so should we put all the data through ML. If so, to what end?\n",
    "    \n",
    "    Any kind of processing, even in ML utilizes resources like compute power and storage space. These are highly expensive resources, not accounting for the human resources required to get the data ready for ML which 80% of the work. Hence, we need to have the objective of using ML very clear.\n",
    "    \n",
    "    We should have a clear and specific understanding of what we hope to achieve out of a ML project. This not only help in optimum resource utilization but also ensure we get better results"
   ]
  },
  {
   "cell_type": "markdown",
   "metadata": {},
   "source": [
    "\n",
    "#### 2.\tPerform pre-processing on the Lending Club dataset from class. Clearly use markdown to indicate each pre-processing step you are using. Note: you should use at least three different techniques. "
   ]
  },
  {
   "cell_type": "code",
   "execution_count": 2,
   "metadata": {},
   "outputs": [
    {
     "data": {
      "text/plain": [
       "(10000, 55)"
      ]
     },
     "metadata": {},
     "output_type": "display_data"
    },
    {
     "name": "stdout",
     "output_type": "stream",
     "text": [
      "**Columns with null values: **\n",
      " verification_income_joint           8545\n",
      "debt_to_income_joint                8505\n",
      "annual_income_joint                 8505\n",
      "months_since_90d_late               7715\n",
      "months_since_last_delinq            5658\n",
      "months_since_last_credit_inquiry    1271\n",
      "emp_title                            833\n",
      "emp_length                           817\n",
      "num_accounts_120d_past_due           318\n",
      "debt_to_income                        24\n",
      "dtype: int64\n",
      "**Unique Values for all columns: **\n",
      " num_accounts_120d_past_due    1\n",
      "num_accounts_30d_past_due     2\n",
      "current_accounts_delinq       2\n",
      "term                          2\n",
      "application_type              2\n",
      "disbursement_method           2\n",
      "initial_listing_status        2\n",
      "verified_income               3\n",
      "issue_month                   3\n",
      "verification_income_joint     3\n",
      "homeownership                 3\n",
      "public_record_bankrupt        4\n",
      "num_collections_last_12m      4\n",
      "dtype: int64\n"
     ]
    }
   ],
   "source": [
    "# Loading data into df\n",
    "lending_data_df = pd.read_csv(\"loans_full_schema.csv\")\n",
    "\n",
    "# Checking shape\n",
    "display(lending_data_df.shape)\n",
    "\n",
    "# Checking top columns with null values\n",
    "nullseries = lending_data_df.isnull().sum().sort_values(ascending=False)\n",
    "print(\"**Columns with null values: **\\n\",nullseries[nullseries>0])\n",
    "\n",
    "# Checking for column unique values to identify columns for encoding\n",
    "unique_val = lending_data_df.nunique().sort_values()\n",
    "print(\"**Unique Values for all columns: **\\n\",unique_val[unique_val<5])"
   ]
  },
  {
   "cell_type": "markdown",
   "metadata": {},
   "source": [
    "#####  Step 1: Handling NaNs\n",
    "    Removed rows where emp_title are NaNs\n",
    "    For integer columns repalcinf NaNs with 0 and handing String columns as per case"
   ]
  },
  {
   "cell_type": "code",
   "execution_count": 3,
   "metadata": {},
   "outputs": [
    {
     "data": {
      "text/plain": [
       "(9167, 55)"
      ]
     },
     "execution_count": 3,
     "metadata": {},
     "output_type": "execute_result"
    }
   ],
   "source": [
    "# Dropping rows where emp_title is NaN\n",
    "lending_data_df.dropna(axis=0, subset=['emp_title'], inplace=True)\n",
    "lending_data_df.shape"
   ]
  },
  {
   "cell_type": "code",
   "execution_count": 4,
   "metadata": {},
   "outputs": [],
   "source": [
    "# Filling int col NaN values with 0\n",
    "lending_data_df['debt_to_income_joint'] = lending_data_df['debt_to_income_joint'].fillna(0)\n",
    "lending_data_df['annual_income_joint'] = lending_data_df['annual_income_joint'].fillna(0)\n",
    "lending_data_df['months_since_90d_late'] = lending_data_df['months_since_90d_late'].fillna(0)\n",
    "lending_data_df['months_since_last_delinq'] = lending_data_df['months_since_last_delinq'].fillna(0)\n",
    "lending_data_df['months_since_last_credit_inquiry'] = lending_data_df['months_since_last_credit_inquiry'].fillna(0)\n",
    "lending_data_df['debt_to_income'] = lending_data_df['debt_to_income'].fillna(0)\n",
    "\n",
    "# For verification_income_joint replacing NaN's with \"Not Applicable\" as those are related to Individual Application types\n",
    "lending_data_df['verification_income_joint'] = lending_data_df['verification_income_joint'].fillna('Not Applicable')"
   ]
  },
  {
   "cell_type": "markdown",
   "metadata": {},
   "source": [
    "#####  Step 2: Identifying Categorical Data\n",
    "    Dropping columns which do not contribute to the whole data set\n",
    "    Identifying Categorical values and converting them into numerical as per distribution "
   ]
  },
  {
   "cell_type": "code",
   "execution_count": 5,
   "metadata": {},
   "outputs": [
    {
     "data": {
      "text/plain": [
       "num_accounts_120d_past_due  num_accounts_30d_past_due  current_accounts_delinq  term\n",
       "0.0                         0                          0                        36      6160\n",
       "                                                                                60      2712\n",
       "dtype: int64"
      ]
     },
     "metadata": {},
     "output_type": "display_data"
    },
    {
     "data": {
      "text/plain": [
       "individual    7875\n",
       "joint         1292\n",
       "Name: application_type, dtype: int64"
      ]
     },
     "metadata": {},
     "output_type": "display_data"
    },
    {
     "data": {
      "text/plain": [
       "Cash         8499\n",
       "DirectPay     668\n",
       "Name: disbursement_method, dtype: int64"
      ]
     },
     "metadata": {},
     "output_type": "display_data"
    },
    {
     "data": {
      "text/plain": [
       "whole         7545\n",
       "fractional    1622\n",
       "Name: initial_listing_status, dtype: int64"
      ]
     },
     "metadata": {},
     "output_type": "display_data"
    },
    {
     "data": {
      "text/plain": [
       "Source Verified    3934\n",
       "Not Verified       3267\n",
       "Verified           1966\n",
       "Name: verified_income, dtype: int64"
      ]
     },
     "metadata": {},
     "output_type": "display_data"
    },
    {
     "data": {
      "text/plain": [
       "Not Applicable     7909\n",
       "Not Verified        531\n",
       "Source Verified     458\n",
       "Verified            269\n",
       "Name: verification_income_joint, dtype: int64"
      ]
     },
     "metadata": {},
     "output_type": "display_data"
    },
    {
     "data": {
      "text/plain": [
       "MORTGAGE    4459\n",
       "RENT        3583\n",
       "OWN         1125\n",
       "Name: homeownership, dtype: int64"
      ]
     },
     "metadata": {},
     "output_type": "display_data"
    },
    {
     "data": {
      "text/plain": [
       "0    8105\n",
       "1    1047\n",
       "2      13\n",
       "3       2\n",
       "Name: public_record_bankrupt, dtype: int64"
      ]
     },
     "metadata": {},
     "output_type": "display_data"
    },
    {
     "data": {
      "text/plain": [
       "0    9052\n",
       "1     106\n",
       "2       8\n",
       "3       1\n",
       "Name: num_collections_last_12m, dtype: int64"
      ]
     },
     "metadata": {},
     "output_type": "display_data"
    }
   ],
   "source": [
    "# Checking value counts for columns identified as categorical data\n",
    "display(lending_data_df[['num_accounts_120d_past_due', 'num_accounts_30d_past_due', 'current_accounts_delinq','term']].value_counts())\n",
    "display(lending_data_df['application_type'].value_counts())\n",
    "display(lending_data_df['disbursement_method'].value_counts())\n",
    "display(lending_data_df['initial_listing_status'].value_counts())\n",
    "display(lending_data_df['verified_income'].value_counts())\n",
    "display(lending_data_df['verification_income_joint'].value_counts())\n",
    "display(lending_data_df['homeownership'].value_counts())\n",
    "display(lending_data_df['public_record_bankrupt'].value_counts())\n",
    "display(lending_data_df['num_collections_last_12m'].value_counts())"
   ]
  },
  {
   "cell_type": "code",
   "execution_count": 6,
   "metadata": {},
   "outputs": [
    {
     "data": {
      "text/plain": [
       "(9167, 52)"
      ]
     },
     "execution_count": 6,
     "metadata": {},
     "output_type": "execute_result"
    }
   ],
   "source": [
    "# Dropping three columns identified above as not contrbuting much to dataset\n",
    "\n",
    "lending_data_df.drop(['num_accounts_120d_past_due', 'num_accounts_30d_past_due', 'current_accounts_delinq'], axis=1,inplace=True)\n",
    "\n",
    "lending_data_df.shape"
   ]
  },
  {
   "cell_type": "code",
   "execution_count": 7,
   "metadata": {},
   "outputs": [],
   "source": [
    "# Changing Categorical column values to numerical values\n",
    "\n",
    "# application_type\n",
    "app_c, app_v = pd.factorize(lending_data_df['application_type'])\n",
    "lending_data_df['application_type'] = app_c\n",
    "\n",
    "# disbursement_method           \n",
    "disb_c, disb_v = pd.factorize(lending_data_df['disbursement_method'])\n",
    "lending_data_df['disbursement_method'] = disb_c\n",
    "\n",
    "# initial_listing_status        \n",
    "ils_c, ils_v = pd.factorize(lending_data_df['initial_listing_status'])\n",
    "lending_data_df['initial_listing_status'] = ils_c\n",
    "\n",
    "# verified_income               \n",
    "vi_c, vi_v = pd.factorize(lending_data_df['verified_income'])\n",
    "lending_data_df['verified_income'] = vi_c\n",
    "\n",
    "# verification_income_joint     \n",
    "vij_c, vij_v = pd.factorize(lending_data_df['verification_income_joint'])\n",
    "lending_data_df['verification_income_joint'] = vij_c\n",
    "\n",
    "# homeownership  \n",
    "ho_c, ho_v = pd.factorize(lending_data_df['homeownership'])\n",
    "lending_data_df['homeownership'] = ho_c\n"
   ]
  },
  {
   "cell_type": "code",
   "execution_count": 8,
   "metadata": {},
   "outputs": [
    {
     "data": {
      "text/html": [
       "<div>\n",
       "<style scoped>\n",
       "    .dataframe tbody tr th:only-of-type {\n",
       "        vertical-align: middle;\n",
       "    }\n",
       "\n",
       "    .dataframe tbody tr th {\n",
       "        vertical-align: top;\n",
       "    }\n",
       "\n",
       "    .dataframe thead th {\n",
       "        text-align: right;\n",
       "    }\n",
       "</style>\n",
       "<table border=\"1\" class=\"dataframe\">\n",
       "  <thead>\n",
       "    <tr style=\"text-align: right;\">\n",
       "      <th></th>\n",
       "      <th>emp_title</th>\n",
       "      <th>emp_length</th>\n",
       "      <th>state</th>\n",
       "      <th>homeownership</th>\n",
       "      <th>annual_income</th>\n",
       "      <th>verified_income</th>\n",
       "      <th>debt_to_income</th>\n",
       "      <th>annual_income_joint</th>\n",
       "      <th>verification_income_joint</th>\n",
       "      <th>debt_to_income_joint</th>\n",
       "      <th>...</th>\n",
       "      <th>sub_grade</th>\n",
       "      <th>issue_month</th>\n",
       "      <th>loan_status</th>\n",
       "      <th>initial_listing_status</th>\n",
       "      <th>disbursement_method</th>\n",
       "      <th>balance</th>\n",
       "      <th>paid_total</th>\n",
       "      <th>paid_principal</th>\n",
       "      <th>paid_interest</th>\n",
       "      <th>paid_late_fees</th>\n",
       "    </tr>\n",
       "  </thead>\n",
       "  <tbody>\n",
       "    <tr>\n",
       "      <th>0</th>\n",
       "      <td>global config engineer</td>\n",
       "      <td>3.0</td>\n",
       "      <td>NJ</td>\n",
       "      <td>0</td>\n",
       "      <td>90000.0</td>\n",
       "      <td>0</td>\n",
       "      <td>18.01</td>\n",
       "      <td>0.0</td>\n",
       "      <td>0</td>\n",
       "      <td>0.00</td>\n",
       "      <td>...</td>\n",
       "      <td>C3</td>\n",
       "      <td>Mar-2018</td>\n",
       "      <td>Current</td>\n",
       "      <td>0</td>\n",
       "      <td>0</td>\n",
       "      <td>27015.86</td>\n",
       "      <td>1999.33</td>\n",
       "      <td>984.14</td>\n",
       "      <td>1015.19</td>\n",
       "      <td>0.0</td>\n",
       "    </tr>\n",
       "    <tr>\n",
       "      <th>1</th>\n",
       "      <td>warehouse office clerk</td>\n",
       "      <td>10.0</td>\n",
       "      <td>HI</td>\n",
       "      <td>1</td>\n",
       "      <td>40000.0</td>\n",
       "      <td>1</td>\n",
       "      <td>5.04</td>\n",
       "      <td>0.0</td>\n",
       "      <td>0</td>\n",
       "      <td>0.00</td>\n",
       "      <td>...</td>\n",
       "      <td>C1</td>\n",
       "      <td>Feb-2018</td>\n",
       "      <td>Current</td>\n",
       "      <td>0</td>\n",
       "      <td>0</td>\n",
       "      <td>4651.37</td>\n",
       "      <td>499.12</td>\n",
       "      <td>348.63</td>\n",
       "      <td>150.49</td>\n",
       "      <td>0.0</td>\n",
       "    </tr>\n",
       "    <tr>\n",
       "      <th>2</th>\n",
       "      <td>assembly</td>\n",
       "      <td>3.0</td>\n",
       "      <td>WI</td>\n",
       "      <td>1</td>\n",
       "      <td>40000.0</td>\n",
       "      <td>2</td>\n",
       "      <td>21.15</td>\n",
       "      <td>0.0</td>\n",
       "      <td>0</td>\n",
       "      <td>0.00</td>\n",
       "      <td>...</td>\n",
       "      <td>D1</td>\n",
       "      <td>Feb-2018</td>\n",
       "      <td>Current</td>\n",
       "      <td>1</td>\n",
       "      <td>0</td>\n",
       "      <td>1824.63</td>\n",
       "      <td>281.80</td>\n",
       "      <td>175.37</td>\n",
       "      <td>106.43</td>\n",
       "      <td>0.0</td>\n",
       "    </tr>\n",
       "    <tr>\n",
       "      <th>3</th>\n",
       "      <td>customer service</td>\n",
       "      <td>1.0</td>\n",
       "      <td>PA</td>\n",
       "      <td>1</td>\n",
       "      <td>30000.0</td>\n",
       "      <td>1</td>\n",
       "      <td>10.16</td>\n",
       "      <td>0.0</td>\n",
       "      <td>0</td>\n",
       "      <td>0.00</td>\n",
       "      <td>...</td>\n",
       "      <td>A3</td>\n",
       "      <td>Jan-2018</td>\n",
       "      <td>Current</td>\n",
       "      <td>0</td>\n",
       "      <td>0</td>\n",
       "      <td>18853.26</td>\n",
       "      <td>3312.89</td>\n",
       "      <td>2746.74</td>\n",
       "      <td>566.15</td>\n",
       "      <td>0.0</td>\n",
       "    </tr>\n",
       "    <tr>\n",
       "      <th>4</th>\n",
       "      <td>security supervisor</td>\n",
       "      <td>10.0</td>\n",
       "      <td>CA</td>\n",
       "      <td>1</td>\n",
       "      <td>35000.0</td>\n",
       "      <td>0</td>\n",
       "      <td>57.96</td>\n",
       "      <td>57000.0</td>\n",
       "      <td>1</td>\n",
       "      <td>37.66</td>\n",
       "      <td>...</td>\n",
       "      <td>C3</td>\n",
       "      <td>Mar-2018</td>\n",
       "      <td>Current</td>\n",
       "      <td>0</td>\n",
       "      <td>0</td>\n",
       "      <td>21430.15</td>\n",
       "      <td>2324.65</td>\n",
       "      <td>1569.85</td>\n",
       "      <td>754.80</td>\n",
       "      <td>0.0</td>\n",
       "    </tr>\n",
       "  </tbody>\n",
       "</table>\n",
       "<p>5 rows × 52 columns</p>\n",
       "</div>"
      ],
      "text/plain": [
       "                 emp_title  emp_length state  homeownership  annual_income  \\\n",
       "0  global config engineer          3.0    NJ              0        90000.0   \n",
       "1   warehouse office clerk        10.0    HI              1        40000.0   \n",
       "2                 assembly         3.0    WI              1        40000.0   \n",
       "3         customer service         1.0    PA              1        30000.0   \n",
       "4     security supervisor         10.0    CA              1        35000.0   \n",
       "\n",
       "   verified_income  debt_to_income  annual_income_joint  \\\n",
       "0                0           18.01                  0.0   \n",
       "1                1            5.04                  0.0   \n",
       "2                2           21.15                  0.0   \n",
       "3                1           10.16                  0.0   \n",
       "4                0           57.96              57000.0   \n",
       "\n",
       "   verification_income_joint  debt_to_income_joint  ...  sub_grade  \\\n",
       "0                          0                  0.00  ...         C3   \n",
       "1                          0                  0.00  ...         C1   \n",
       "2                          0                  0.00  ...         D1   \n",
       "3                          0                  0.00  ...         A3   \n",
       "4                          1                 37.66  ...         C3   \n",
       "\n",
       "   issue_month  loan_status  initial_listing_status  disbursement_method  \\\n",
       "0     Mar-2018      Current                       0                    0   \n",
       "1     Feb-2018      Current                       0                    0   \n",
       "2     Feb-2018      Current                       1                    0   \n",
       "3     Jan-2018      Current                       0                    0   \n",
       "4     Mar-2018      Current                       0                    0   \n",
       "\n",
       "    balance  paid_total  paid_principal  paid_interest  paid_late_fees  \n",
       "0  27015.86     1999.33          984.14        1015.19             0.0  \n",
       "1   4651.37      499.12          348.63         150.49             0.0  \n",
       "2   1824.63      281.80          175.37         106.43             0.0  \n",
       "3  18853.26     3312.89         2746.74         566.15             0.0  \n",
       "4  21430.15     2324.65         1569.85         754.80             0.0  \n",
       "\n",
       "[5 rows x 52 columns]"
      ]
     },
     "execution_count": 8,
     "metadata": {},
     "output_type": "execute_result"
    }
   ],
   "source": [
    "lending_data_df.head()"
   ]
  },
  {
   "cell_type": "markdown",
   "metadata": {},
   "source": [
    "#####  Step 3 Stratified Sampling    \n",
    "    Splitting data into train and test set according to application_type"
   ]
  },
  {
   "cell_type": "code",
   "execution_count": 9,
   "metadata": {},
   "outputs": [
    {
     "name": "stdout",
     "output_type": "stream",
     "text": [
      "0    5906\n",
      "1     969\n",
      "Name: application_type, dtype: int64\n"
     ]
    }
   ],
   "source": [
    "from sklearn.model_selection import train_test_split\n",
    "\n",
    "loans_X = lending_data_df.drop(\"application_type\",axis=1)\n",
    "loans_y = lending_data_df[[\"application_type\"]]\n",
    "\n",
    "\n",
    "X_train, X_test, y_train, y_test = train_test_split(loans_X, loans_y, stratify=loans_y)\n",
    "\n",
    "print(y_train[\"application_type\"].value_counts())"
   ]
  },
  {
   "cell_type": "markdown",
   "metadata": {},
   "source": [
    "#### 3.\tCreate a correlation matrix with a heatmap for the features in the Lending Club dataset. Use markdown to write about your takeaways in under 250 words."
   ]
  },
  {
   "cell_type": "markdown",
   "metadata": {},
   "source": [
    "To better visualise the heatmap, taking only subet data from dataframe of loan amount and it's features exclusing any data related to the individual or the join applicant"
   ]
  },
  {
   "cell_type": "code",
   "execution_count": 10,
   "metadata": {},
   "outputs": [
    {
     "data": {
      "text/plain": [
       "Index(['emp_title', 'emp_length', 'state', 'homeownership', 'annual_income',\n",
       "       'verified_income', 'debt_to_income', 'annual_income_joint',\n",
       "       'verification_income_joint', 'debt_to_income_joint', 'delinq_2y',\n",
       "       'months_since_last_delinq', 'earliest_credit_line',\n",
       "       'inquiries_last_12m', 'total_credit_lines', 'open_credit_lines',\n",
       "       'total_credit_limit', 'total_credit_utilized',\n",
       "       'num_collections_last_12m', 'num_historical_failed_to_pay',\n",
       "       'months_since_90d_late', 'total_collection_amount_ever',\n",
       "       'current_installment_accounts', 'accounts_opened_24m',\n",
       "       'months_since_last_credit_inquiry', 'num_satisfactory_accounts',\n",
       "       'num_active_debit_accounts', 'total_debit_limit',\n",
       "       'num_total_cc_accounts', 'num_open_cc_accounts',\n",
       "       'num_cc_carrying_balance', 'num_mort_accounts',\n",
       "       'account_never_delinq_percent', 'tax_liens', 'public_record_bankrupt',\n",
       "       'loan_purpose', 'application_type', 'loan_amount', 'term',\n",
       "       'interest_rate', 'installment', 'grade', 'sub_grade', 'issue_month',\n",
       "       'loan_status', 'initial_listing_status', 'disbursement_method',\n",
       "       'balance', 'paid_total', 'paid_principal', 'paid_interest',\n",
       "       'paid_late_fees'],\n",
       "      dtype='object')"
      ]
     },
     "execution_count": 10,
     "metadata": {},
     "output_type": "execute_result"
    }
   ],
   "source": [
    "lending_data_df.columns"
   ]
  },
  {
   "cell_type": "code",
   "execution_count": 11,
   "metadata": {},
   "outputs": [
    {
     "data": {
      "text/html": [
       "<div>\n",
       "<style scoped>\n",
       "    .dataframe tbody tr th:only-of-type {\n",
       "        vertical-align: middle;\n",
       "    }\n",
       "\n",
       "    .dataframe tbody tr th {\n",
       "        vertical-align: top;\n",
       "    }\n",
       "\n",
       "    .dataframe thead th {\n",
       "        text-align: right;\n",
       "    }\n",
       "</style>\n",
       "<table border=\"1\" class=\"dataframe\">\n",
       "  <thead>\n",
       "    <tr style=\"text-align: right;\">\n",
       "      <th></th>\n",
       "      <th>loan_amount</th>\n",
       "      <th>term</th>\n",
       "      <th>interest_rate</th>\n",
       "      <th>installment</th>\n",
       "      <th>grade</th>\n",
       "      <th>sub_grade</th>\n",
       "      <th>issue_month</th>\n",
       "      <th>loan_status</th>\n",
       "      <th>initial_listing_status</th>\n",
       "      <th>disbursement_method</th>\n",
       "      <th>balance</th>\n",
       "      <th>paid_total</th>\n",
       "      <th>paid_principal</th>\n",
       "      <th>paid_interest</th>\n",
       "      <th>paid_late_fees</th>\n",
       "    </tr>\n",
       "  </thead>\n",
       "  <tbody>\n",
       "    <tr>\n",
       "      <th>0</th>\n",
       "      <td>28000</td>\n",
       "      <td>60</td>\n",
       "      <td>14.07</td>\n",
       "      <td>652.53</td>\n",
       "      <td>C</td>\n",
       "      <td>C3</td>\n",
       "      <td>Mar-2018</td>\n",
       "      <td>Current</td>\n",
       "      <td>0</td>\n",
       "      <td>0</td>\n",
       "      <td>27015.86</td>\n",
       "      <td>1999.33</td>\n",
       "      <td>984.14</td>\n",
       "      <td>1015.19</td>\n",
       "      <td>0.0</td>\n",
       "    </tr>\n",
       "    <tr>\n",
       "      <th>1</th>\n",
       "      <td>5000</td>\n",
       "      <td>36</td>\n",
       "      <td>12.61</td>\n",
       "      <td>167.54</td>\n",
       "      <td>C</td>\n",
       "      <td>C1</td>\n",
       "      <td>Feb-2018</td>\n",
       "      <td>Current</td>\n",
       "      <td>0</td>\n",
       "      <td>0</td>\n",
       "      <td>4651.37</td>\n",
       "      <td>499.12</td>\n",
       "      <td>348.63</td>\n",
       "      <td>150.49</td>\n",
       "      <td>0.0</td>\n",
       "    </tr>\n",
       "    <tr>\n",
       "      <th>2</th>\n",
       "      <td>2000</td>\n",
       "      <td>36</td>\n",
       "      <td>17.09</td>\n",
       "      <td>71.40</td>\n",
       "      <td>D</td>\n",
       "      <td>D1</td>\n",
       "      <td>Feb-2018</td>\n",
       "      <td>Current</td>\n",
       "      <td>1</td>\n",
       "      <td>0</td>\n",
       "      <td>1824.63</td>\n",
       "      <td>281.80</td>\n",
       "      <td>175.37</td>\n",
       "      <td>106.43</td>\n",
       "      <td>0.0</td>\n",
       "    </tr>\n",
       "    <tr>\n",
       "      <th>3</th>\n",
       "      <td>21600</td>\n",
       "      <td>36</td>\n",
       "      <td>6.72</td>\n",
       "      <td>664.19</td>\n",
       "      <td>A</td>\n",
       "      <td>A3</td>\n",
       "      <td>Jan-2018</td>\n",
       "      <td>Current</td>\n",
       "      <td>0</td>\n",
       "      <td>0</td>\n",
       "      <td>18853.26</td>\n",
       "      <td>3312.89</td>\n",
       "      <td>2746.74</td>\n",
       "      <td>566.15</td>\n",
       "      <td>0.0</td>\n",
       "    </tr>\n",
       "    <tr>\n",
       "      <th>4</th>\n",
       "      <td>23000</td>\n",
       "      <td>36</td>\n",
       "      <td>14.07</td>\n",
       "      <td>786.87</td>\n",
       "      <td>C</td>\n",
       "      <td>C3</td>\n",
       "      <td>Mar-2018</td>\n",
       "      <td>Current</td>\n",
       "      <td>0</td>\n",
       "      <td>0</td>\n",
       "      <td>21430.15</td>\n",
       "      <td>2324.65</td>\n",
       "      <td>1569.85</td>\n",
       "      <td>754.80</td>\n",
       "      <td>0.0</td>\n",
       "    </tr>\n",
       "  </tbody>\n",
       "</table>\n",
       "</div>"
      ],
      "text/plain": [
       "   loan_amount  term  interest_rate  installment grade sub_grade issue_month  \\\n",
       "0        28000    60          14.07       652.53     C        C3    Mar-2018   \n",
       "1         5000    36          12.61       167.54     C        C1    Feb-2018   \n",
       "2         2000    36          17.09        71.40     D        D1    Feb-2018   \n",
       "3        21600    36           6.72       664.19     A        A3    Jan-2018   \n",
       "4        23000    36          14.07       786.87     C        C3    Mar-2018   \n",
       "\n",
       "  loan_status  initial_listing_status  disbursement_method   balance  \\\n",
       "0     Current                       0                    0  27015.86   \n",
       "1     Current                       0                    0   4651.37   \n",
       "2     Current                       1                    0   1824.63   \n",
       "3     Current                       0                    0  18853.26   \n",
       "4     Current                       0                    0  21430.15   \n",
       "\n",
       "   paid_total  paid_principal  paid_interest  paid_late_fees  \n",
       "0     1999.33          984.14        1015.19             0.0  \n",
       "1      499.12          348.63         150.49             0.0  \n",
       "2      281.80          175.37         106.43             0.0  \n",
       "3     3312.89         2746.74         566.15             0.0  \n",
       "4     2324.65         1569.85         754.80             0.0  "
      ]
     },
     "execution_count": 11,
     "metadata": {},
     "output_type": "execute_result"
    }
   ],
   "source": [
    "loan_df = lending_data_df[['loan_amount', 'term',\n",
    "       'interest_rate', 'installment', 'grade', 'sub_grade', 'issue_month',\n",
    "       'loan_status', 'initial_listing_status', 'disbursement_method',\n",
    "       'balance', 'paid_total', 'paid_principal', 'paid_interest',\n",
    "       'paid_late_fees']]\n",
    "loan_df.head()"
   ]
  },
  {
   "cell_type": "code",
   "execution_count": 12,
   "metadata": {},
   "outputs": [
    {
     "data": {
      "image/png": "[encoded data removed]",
      "text/plain": [
       "<Figure size 1440x720 with 2 Axes>"
      ]
     },
     "metadata": {
      "needs_background": "light"
     },
     "output_type": "display_data"
    }
   ],
   "source": [
    "loan_corr = loan_df.corr()\n",
    "loan_corr\n",
    "plt.subplots(1,1,figsize=(20,10))\n",
    "sns.heatmap(loan_corr, annot=True)\n",
    "plt.title(\"Heatmap for Loan amount and related features\")\n",
    "plt.show()"
   ]
  },
  {
   "cell_type": "markdown",
   "metadata": {},
   "source": [
    "##### Observations:\n",
    "    1. Almost all of the features is positively correlated with each other.\n",
    "    2. paid_interest has strong correlation with loan_amount, term, interest_rate and installment\n",
    "    3. paid_total has a strong correlationd with paid_principal\n",
    "    4. disbursment method has no relation with the loan amount and it's features\n",
    "    5. balance is strongly related to paid_interest, installment and loan_amount\n",
    "    6, paid_total and paid pricipal has a very strong coeff\n",
    "    "
   ]
  },
  {
   "cell_type": "markdown",
   "metadata": {},
   "source": [
    "#### 4.\tCreate a histogram showing the frequency of loan_amounts. Describe what you see. Pay special attention to bin sizes, and clearly describe how you chose your bin sizes. "
   ]
  },
  {
   "cell_type": "code",
   "execution_count": 13,
   "metadata": {},
   "outputs": [
    {
     "name": "stdout",
     "output_type": "stream",
     "text": [
      "Min loan amount: 1000\n",
      "Max loan amount: 40000\n",
      "Most loan amounts:\n"
     ]
    },
    {
     "data": {
      "text/plain": [
       "<AxesSubplot:title={'center':'Loan Amount distribution'}>"
      ]
     },
     "execution_count": 13,
     "metadata": {},
     "output_type": "execute_result"
    },
    {
     "data": {
      "image/png": "[encoded data removed]",
      "text/plain": [
       "<Figure size 1080x504 with 1 Axes>"
      ]
     },
     "metadata": {
      "needs_background": "light"
     },
     "output_type": "display_data"
    }
   ],
   "source": [
    "print(\"Min loan amount:\",lending_data_df['loan_amount'].min())\n",
    "print(\"Max loan amount:\",lending_data_df['loan_amount'].max())\n",
    "print(\"Most loan amounts:\")\n",
    "\n",
    "plt.subplots(1,1,figsize=(15,7))\n",
    "plt.title(\"Loan Amount distribution\")\n",
    "lending_data_df['loan_amount'].hist(bins = 40)"
   ]
  },
  {
   "cell_type": "markdown",
   "metadata": {},
   "source": [
    "As per the min and maximun loan amount selected bin size of 40.\n",
    "\n",
    "##### Observations:\n",
    "    - 10,000 is by far the most common loan amount followed by 20,000.\n",
    "    - There is significant loan amounts observed between 5000 and 10000.\n",
    "    - Between 20000 and 40000 we see majority loan amounts for round up figures like 20K, 25K and so on but only few in betwen. "
   ]
  },
  {
   "cell_type": "markdown",
   "metadata": {},
   "source": [
    "#### 5.\tCreate a new column called region that uses a lambda and shows which part of the US someone lives in, split up into Pacific, Plains, Midwest, Northeast, and South. Consider having your lambda call a function. \n",
    "    a.\tIs there a better way to do this than with a lambda? \n",
    "    b.\tEither use two different lambdas or a lambda and a different technique and see which one is more performant. Explain your findings in the markdown. "
   ]
  },
  {
   "cell_type": "code",
   "execution_count": 14,
   "metadata": {},
   "outputs": [
    {
     "data": {
      "text/plain": [
       "array(['NJ', 'HI', 'WI', 'PA', 'CA', 'MI', 'AZ', 'NV', 'IL', 'FL', 'SC',\n",
       "       'CO', 'TN', 'KY', 'VA', 'NY', 'GA', 'MO', 'TX', 'AR', 'MD', 'NC',\n",
       "       'NE', 'WV', 'NH', 'UT', 'MA', 'OH', 'OK', 'SD', 'MN', 'AL', 'LA',\n",
       "       'IN', 'KS', 'MS', 'OR', 'WA', 'ME', 'VT', 'CT', 'NM', 'AK', 'DE',\n",
       "       'MT', 'RI', 'ND', 'DC', 'ID', 'WY'], dtype=object)"
      ]
     },
     "execution_count": 14,
     "metadata": {},
     "output_type": "execute_result"
    }
   ],
   "source": [
    "lending_data_df['state'].unique()"
   ]
  },
  {
   "cell_type": "markdown",
   "metadata": {},
   "source": [
    "##### Creating 'Region' column with the use of lambda"
   ]
  },
  {
   "cell_type": "code",
   "execution_count": 15,
   "metadata": {},
   "outputs": [
    {
     "name": "stdout",
     "output_type": "stream",
     "text": [
      "Time taken to process lambda function approach 0.27323222160339355\n"
     ]
    }
   ],
   "source": [
    "#starting timer\n",
    "start = time.time()\n",
    "\n",
    "# lambda approach\n",
    "northeast = ['ME', 'MA', 'RI', 'CT', 'NH', 'VT', 'NY', 'PA', 'NJ', 'DE', 'MD','DC'] \n",
    "south = ['WV', 'VA', 'KY', 'TN', 'NC', 'SC', 'GA', 'AL', 'MS', 'AK', 'LA', 'FL','TX', 'OK', 'NM', 'AZ', 'AR']\n",
    "midwest = ['OH', 'IN', 'MI', 'IL', 'WI', 'MN', 'SD', 'ND']\n",
    "pacific = ['CO', 'WY', 'MT', 'ID', 'WA', 'OR', 'UT', 'CA', 'AL', 'HI','NV']\n",
    "plains = ['IA','MO','NE','KS']\n",
    "    \n",
    "def region(row):\n",
    "    if row['state'] in northeast:\n",
    "        return 'Northeast'\n",
    "    if row['state'] in south:\n",
    "        return 'South'   \n",
    "    if row['state'] in midwest:\n",
    "        return 'Midwest'\n",
    "    if row['state'] in pacific:\n",
    "        return 'Pacific'\n",
    "    if row['state'] in plains:\n",
    "        return 'Plains'\n",
    "    \n",
    "lending_data_df['Region'] = lending_data_df.apply(lambda row: region(row), axis =1)\n",
    "\n",
    "end = time.time()\n",
    "\n",
    "print(\"Time taken to process lambda function approach\",end-start)"
   ]
  },
  {
   "cell_type": "markdown",
   "metadata": {},
   "source": [
    "##### Alternating approach then using lambda is to use np.select"
   ]
  },
  {
   "cell_type": "code",
   "execution_count": 16,
   "metadata": {},
   "outputs": [
    {
     "name": "stdout",
     "output_type": "stream",
     "text": [
      "Time taken to process np.select approach 0.011969327926635742\n"
     ]
    }
   ],
   "source": [
    "# starting timer\n",
    "start = time.time()\n",
    "\n",
    "# np.select approach\n",
    "conditions = [lending_data_df['state'].isin(northeast),\n",
    "             lending_data_df['state'].isin(south),\n",
    "             lending_data_df['state'].isin(midwest),\n",
    "             lending_data_df['state'].isin(pacific),\n",
    "             lending_data_df['state'].isin(plains)]\n",
    "\n",
    "output = ['Northeast','South','Midwest','Pacific','Plains']\n",
    "\n",
    "lending_data_df['Region_1'] = np.select(conditions,output)\n",
    "\n",
    "end = time.time()\n",
    "\n",
    "print(\"Time taken to process np.select approach\",end-start)"
   ]
  },
  {
   "cell_type": "code",
   "execution_count": 17,
   "metadata": {},
   "outputs": [
    {
     "data": {
      "text/plain": [
       "True"
      ]
     },
     "execution_count": 17,
     "metadata": {},
     "output_type": "execute_result"
    }
   ],
   "source": [
    "lending_data_df['Region'].equals(lending_data_df['Region_1'])"
   ]
  },
  {
   "cell_type": "markdown",
   "metadata": {},
   "source": [
    "As we can see from the time raken to process both the cases that np.select takes much less time than lambda function to create Region column with approproate values"
   ]
  },
  {
   "cell_type": "code",
   "execution_count": 18,
   "metadata": {},
   "outputs": [
    {
     "data": {
      "text/html": [
       "<div>\n",
       "<style scoped>\n",
       "    .dataframe tbody tr th:only-of-type {\n",
       "        vertical-align: middle;\n",
       "    }\n",
       "\n",
       "    .dataframe tbody tr th {\n",
       "        vertical-align: top;\n",
       "    }\n",
       "\n",
       "    .dataframe thead th {\n",
       "        text-align: right;\n",
       "    }\n",
       "</style>\n",
       "<table border=\"1\" class=\"dataframe\">\n",
       "  <thead>\n",
       "    <tr style=\"text-align: right;\">\n",
       "      <th></th>\n",
       "      <th>emp_title</th>\n",
       "      <th>emp_length</th>\n",
       "      <th>state</th>\n",
       "      <th>homeownership</th>\n",
       "      <th>annual_income</th>\n",
       "      <th>verified_income</th>\n",
       "      <th>debt_to_income</th>\n",
       "      <th>annual_income_joint</th>\n",
       "      <th>verification_income_joint</th>\n",
       "      <th>debt_to_income_joint</th>\n",
       "      <th>...</th>\n",
       "      <th>issue_month</th>\n",
       "      <th>loan_status</th>\n",
       "      <th>initial_listing_status</th>\n",
       "      <th>disbursement_method</th>\n",
       "      <th>balance</th>\n",
       "      <th>paid_total</th>\n",
       "      <th>paid_principal</th>\n",
       "      <th>paid_interest</th>\n",
       "      <th>paid_late_fees</th>\n",
       "      <th>Region</th>\n",
       "    </tr>\n",
       "  </thead>\n",
       "  <tbody>\n",
       "    <tr>\n",
       "      <th>0</th>\n",
       "      <td>global config engineer</td>\n",
       "      <td>3.0</td>\n",
       "      <td>NJ</td>\n",
       "      <td>0</td>\n",
       "      <td>90000.0</td>\n",
       "      <td>0</td>\n",
       "      <td>18.01</td>\n",
       "      <td>0.0</td>\n",
       "      <td>0</td>\n",
       "      <td>0.00</td>\n",
       "      <td>...</td>\n",
       "      <td>Mar-2018</td>\n",
       "      <td>Current</td>\n",
       "      <td>0</td>\n",
       "      <td>0</td>\n",
       "      <td>27015.86</td>\n",
       "      <td>1999.33</td>\n",
       "      <td>984.14</td>\n",
       "      <td>1015.19</td>\n",
       "      <td>0.0</td>\n",
       "      <td>Northeast</td>\n",
       "    </tr>\n",
       "    <tr>\n",
       "      <th>1</th>\n",
       "      <td>warehouse office clerk</td>\n",
       "      <td>10.0</td>\n",
       "      <td>HI</td>\n",
       "      <td>1</td>\n",
       "      <td>40000.0</td>\n",
       "      <td>1</td>\n",
       "      <td>5.04</td>\n",
       "      <td>0.0</td>\n",
       "      <td>0</td>\n",
       "      <td>0.00</td>\n",
       "      <td>...</td>\n",
       "      <td>Feb-2018</td>\n",
       "      <td>Current</td>\n",
       "      <td>0</td>\n",
       "      <td>0</td>\n",
       "      <td>4651.37</td>\n",
       "      <td>499.12</td>\n",
       "      <td>348.63</td>\n",
       "      <td>150.49</td>\n",
       "      <td>0.0</td>\n",
       "      <td>Pacific</td>\n",
       "    </tr>\n",
       "    <tr>\n",
       "      <th>2</th>\n",
       "      <td>assembly</td>\n",
       "      <td>3.0</td>\n",
       "      <td>WI</td>\n",
       "      <td>1</td>\n",
       "      <td>40000.0</td>\n",
       "      <td>2</td>\n",
       "      <td>21.15</td>\n",
       "      <td>0.0</td>\n",
       "      <td>0</td>\n",
       "      <td>0.00</td>\n",
       "      <td>...</td>\n",
       "      <td>Feb-2018</td>\n",
       "      <td>Current</td>\n",
       "      <td>1</td>\n",
       "      <td>0</td>\n",
       "      <td>1824.63</td>\n",
       "      <td>281.80</td>\n",
       "      <td>175.37</td>\n",
       "      <td>106.43</td>\n",
       "      <td>0.0</td>\n",
       "      <td>Midwest</td>\n",
       "    </tr>\n",
       "    <tr>\n",
       "      <th>3</th>\n",
       "      <td>customer service</td>\n",
       "      <td>1.0</td>\n",
       "      <td>PA</td>\n",
       "      <td>1</td>\n",
       "      <td>30000.0</td>\n",
       "      <td>1</td>\n",
       "      <td>10.16</td>\n",
       "      <td>0.0</td>\n",
       "      <td>0</td>\n",
       "      <td>0.00</td>\n",
       "      <td>...</td>\n",
       "      <td>Jan-2018</td>\n",
       "      <td>Current</td>\n",
       "      <td>0</td>\n",
       "      <td>0</td>\n",
       "      <td>18853.26</td>\n",
       "      <td>3312.89</td>\n",
       "      <td>2746.74</td>\n",
       "      <td>566.15</td>\n",
       "      <td>0.0</td>\n",
       "      <td>Northeast</td>\n",
       "    </tr>\n",
       "    <tr>\n",
       "      <th>4</th>\n",
       "      <td>security supervisor</td>\n",
       "      <td>10.0</td>\n",
       "      <td>CA</td>\n",
       "      <td>1</td>\n",
       "      <td>35000.0</td>\n",
       "      <td>0</td>\n",
       "      <td>57.96</td>\n",
       "      <td>57000.0</td>\n",
       "      <td>1</td>\n",
       "      <td>37.66</td>\n",
       "      <td>...</td>\n",
       "      <td>Mar-2018</td>\n",
       "      <td>Current</td>\n",
       "      <td>0</td>\n",
       "      <td>0</td>\n",
       "      <td>21430.15</td>\n",
       "      <td>2324.65</td>\n",
       "      <td>1569.85</td>\n",
       "      <td>754.80</td>\n",
       "      <td>0.0</td>\n",
       "      <td>Pacific</td>\n",
       "    </tr>\n",
       "  </tbody>\n",
       "</table>\n",
       "<p>5 rows × 53 columns</p>\n",
       "</div>"
      ],
      "text/plain": [
       "                 emp_title  emp_length state  homeownership  annual_income  \\\n",
       "0  global config engineer          3.0    NJ              0        90000.0   \n",
       "1   warehouse office clerk        10.0    HI              1        40000.0   \n",
       "2                 assembly         3.0    WI              1        40000.0   \n",
       "3         customer service         1.0    PA              1        30000.0   \n",
       "4     security supervisor         10.0    CA              1        35000.0   \n",
       "\n",
       "   verified_income  debt_to_income  annual_income_joint  \\\n",
       "0                0           18.01                  0.0   \n",
       "1                1            5.04                  0.0   \n",
       "2                2           21.15                  0.0   \n",
       "3                1           10.16                  0.0   \n",
       "4                0           57.96              57000.0   \n",
       "\n",
       "   verification_income_joint  debt_to_income_joint  ...  issue_month  \\\n",
       "0                          0                  0.00  ...     Mar-2018   \n",
       "1                          0                  0.00  ...     Feb-2018   \n",
       "2                          0                  0.00  ...     Feb-2018   \n",
       "3                          0                  0.00  ...     Jan-2018   \n",
       "4                          1                 37.66  ...     Mar-2018   \n",
       "\n",
       "   loan_status  initial_listing_status  disbursement_method   balance  \\\n",
       "0      Current                       0                    0  27015.86   \n",
       "1      Current                       0                    0   4651.37   \n",
       "2      Current                       1                    0   1824.63   \n",
       "3      Current                       0                    0  18853.26   \n",
       "4      Current                       0                    0  21430.15   \n",
       "\n",
       "   paid_total  paid_principal  paid_interest  paid_late_fees     Region  \n",
       "0     1999.33          984.14        1015.19             0.0  Northeast  \n",
       "1      499.12          348.63         150.49             0.0    Pacific  \n",
       "2      281.80          175.37         106.43             0.0    Midwest  \n",
       "3     3312.89         2746.74         566.15             0.0  Northeast  \n",
       "4     2324.65         1569.85         754.80             0.0    Pacific  \n",
       "\n",
       "[5 rows x 53 columns]"
      ]
     },
     "execution_count": 18,
     "metadata": {},
     "output_type": "execute_result"
    }
   ],
   "source": [
    "# Removing duplicate columns\n",
    "lending_data_df.drop('Region_1',axis=1,inplace=True)\n",
    "lending_data_df.head()"
   ]
  },
  {
   "cell_type": "markdown",
   "metadata": {},
   "source": [
    "#### 6.\tCreate subplot histograms to show if loan_amounts differ by region. Summarize your findings."
   ]
  },
  {
   "cell_type": "code",
   "execution_count": 19,
   "metadata": {},
   "outputs": [],
   "source": [
    "loans_region_df = lending_data_df.groupby('Region')['loan_amount'].value_counts()"
   ]
  },
  {
   "cell_type": "code",
   "execution_count": 20,
   "metadata": {},
   "outputs": [
    {
     "data": {
      "text/html": [
       "<div>\n",
       "<style scoped>\n",
       "    .dataframe tbody tr th:only-of-type {\n",
       "        vertical-align: middle;\n",
       "    }\n",
       "\n",
       "    .dataframe tbody tr th {\n",
       "        vertical-align: top;\n",
       "    }\n",
       "\n",
       "    .dataframe thead th {\n",
       "        text-align: right;\n",
       "    }\n",
       "</style>\n",
       "<table border=\"1\" class=\"dataframe\">\n",
       "  <thead>\n",
       "    <tr style=\"text-align: right;\">\n",
       "      <th></th>\n",
       "      <th>Region</th>\n",
       "      <th>loan_amount</th>\n",
       "      <th>No. of loans</th>\n",
       "    </tr>\n",
       "  </thead>\n",
       "  <tbody>\n",
       "    <tr>\n",
       "      <th>0</th>\n",
       "      <td>Midwest</td>\n",
       "      <td>10000</td>\n",
       "      <td>119</td>\n",
       "    </tr>\n",
       "    <tr>\n",
       "      <th>1</th>\n",
       "      <td>Midwest</td>\n",
       "      <td>20000</td>\n",
       "      <td>84</td>\n",
       "    </tr>\n",
       "    <tr>\n",
       "      <th>2</th>\n",
       "      <td>Midwest</td>\n",
       "      <td>15000</td>\n",
       "      <td>80</td>\n",
       "    </tr>\n",
       "    <tr>\n",
       "      <th>3</th>\n",
       "      <td>Midwest</td>\n",
       "      <td>40000</td>\n",
       "      <td>68</td>\n",
       "    </tr>\n",
       "    <tr>\n",
       "      <th>4</th>\n",
       "      <td>Midwest</td>\n",
       "      <td>12000</td>\n",
       "      <td>60</td>\n",
       "    </tr>\n",
       "    <tr>\n",
       "      <th>...</th>\n",
       "      <td>...</td>\n",
       "      <td>...</td>\n",
       "      <td>...</td>\n",
       "    </tr>\n",
       "    <tr>\n",
       "      <th>1055</th>\n",
       "      <td>South</td>\n",
       "      <td>39000</td>\n",
       "      <td>1</td>\n",
       "    </tr>\n",
       "    <tr>\n",
       "      <th>1056</th>\n",
       "      <td>South</td>\n",
       "      <td>39275</td>\n",
       "      <td>1</td>\n",
       "    </tr>\n",
       "    <tr>\n",
       "      <th>1057</th>\n",
       "      <td>South</td>\n",
       "      <td>39400</td>\n",
       "      <td>1</td>\n",
       "    </tr>\n",
       "    <tr>\n",
       "      <th>1058</th>\n",
       "      <td>South</td>\n",
       "      <td>39425</td>\n",
       "      <td>1</td>\n",
       "    </tr>\n",
       "    <tr>\n",
       "      <th>1059</th>\n",
       "      <td>South</td>\n",
       "      <td>39825</td>\n",
       "      <td>1</td>\n",
       "    </tr>\n",
       "  </tbody>\n",
       "</table>\n",
       "<p>1060 rows × 3 columns</p>\n",
       "</div>"
      ],
      "text/plain": [
       "       Region  loan_amount  No. of loans\n",
       "0     Midwest        10000           119\n",
       "1     Midwest        20000            84\n",
       "2     Midwest        15000            80\n",
       "3     Midwest        40000            68\n",
       "4     Midwest        12000            60\n",
       "...       ...          ...           ...\n",
       "1055    South        39000             1\n",
       "1056    South        39275             1\n",
       "1057    South        39400             1\n",
       "1058    South        39425             1\n",
       "1059    South        39825             1\n",
       "\n",
       "[1060 rows x 3 columns]"
      ]
     },
     "execution_count": 20,
     "metadata": {},
     "output_type": "execute_result"
    }
   ],
   "source": [
    "loans_region_df = pd.DataFrame(loans_region_df)\n",
    "loans_region_df.columns = [\"No. of loans\"]\n",
    "loans_region_df.reset_index(inplace=True)\n",
    "\n",
    "loans_region_df"
   ]
  },
  {
   "cell_type": "code",
   "execution_count": 22,
   "metadata": {},
   "outputs": [
    {
     "data": {
      "image/png": "[encoded data removed]",
      "text/plain": [
       "<Figure size 1080x216 with 5 Axes>"
      ]
     },
     "metadata": {
      "needs_background": "light"
     },
     "output_type": "display_data"
    }
   ],
   "source": [
    "g = sns.FacetGrid(loans_region_df, col='Region')\n",
    "\n",
    "g.map(sns.histplot, 'loan_amount')\n",
    "\n",
    "plt.show()"
   ]
  },
  {
   "cell_type": "markdown",
   "metadata": {},
   "source": [
    "##### Observations:\n",
    "    - South see the highest total Loans. Plains have the lowest loans. However the area covered by each region makes these observations counter intuitive.\n",
    "    - In Pacific region majority of loans are below 25K\n",
    "    - Northeast region sees a distributed amounts of loan across the spectrum.\n",
    "    - Midwest has hower frequency of loans in comparision to other regions (excluding Plains which covers only 4 states)."
   ]
  },
  {
   "cell_type": "code",
   "execution_count": null,
   "metadata": {},
   "outputs": [],
   "source": []
  }
 ],
 "metadata": {
  "interpreter": {
   "hash": "2db524e06e9f5f4ffedc911c917cb75e12dbc923643829bf417064a77eb14d37"
  },
  "kernelspec": {
   "display_name": "Python 3 (ipykernel)",
   "language": "python",
   "name": "python3"
  },
  "language_info": {
   "codemirror_mode": {
    "name": "ipython",
    "version": 3
   },
   "file_extension": ".py",
   "mimetype": "text/x-python",
   "name": "python",
   "nbconvert_exporter": "python",
   "pygments_lexer": "ipython3",
   "version": "3.8.10"
  }
 },
 "nbformat": 4,
 "nbformat_minor": 2
}
